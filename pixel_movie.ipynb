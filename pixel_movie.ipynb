{
 "cells": [
  {
   "cell_type": "markdown",
   "id": "720676f8-8f4a-4cfa-9d1e-e1c44c07585f",
   "metadata": {},
   "source": [
    "# Procedure for creating pixelated gif"
   ]
  },
  {
   "cell_type": "markdown",
   "id": "8b575b04-2f58-4e1b-b312-9c50c33a3578",
   "metadata": {},
   "source": [
    "# 1: Create the pixelated images"
   ]
  },
  {
   "cell_type": "code",
   "execution_count": 4,
   "id": "6d079470-54fb-4c30-9e0e-b13833d937fe",
   "metadata": {
    "tags": []
   },
   "outputs": [],
   "source": [
    "import matplotlib.pyplot as plt\n",
    "import numpy as np"
   ]
  },
  {
   "cell_type": "code",
   "execution_count": 18,
   "id": "74ee46b0-0e56-443d-90b1-57b94cdbb937",
   "metadata": {
    "tags": []
   },
   "outputs": [
    {
     "name": "stdout",
     "output_type": "stream",
     "text": [
      "Error: Unable to load the image.\n"
     ]
    },
    {
     "name": "stderr",
     "output_type": "stream",
     "text": [
      "[ WARN:0@738.259] global loadsave.cpp:248 findDecoder imread_('input_image.jpg'): can't open/read file: check file path/integrity\n"
     ]
    }
   ],
   "source": [
    "import cv2\n",
    "\n",
    "def pixelate_image(input_image_path, output_image_path, pixel_size):\n",
    "    # Load the input image\n",
    "    image = cv2.imread(input_image_path)\n",
    "\n",
    "    if image is None:\n",
    "        print(\"Error: Unable to load the image.\")\n",
    "        return\n",
    "\n",
    "    # Get the original dimensions of the image\n",
    "    height, width = image.shape[:2]\n",
    "\n",
    "    # Resize the image to a smaller resolution\n",
    "    small_image = cv2.resize(image, (width // pixel_size, height // pixel_size), interpolation=cv2.INTER_NEAREST)\n",
    "\n",
    "    # Resize the smaller image back to the original size\n",
    "    pixelated_image = cv2.resize(small_image, (width, height), interpolation=cv2.INTER_NEAREST)\n",
    "\n",
    "    # Save the pixelated image\n",
    "    cv2.imwrite(output_image_path, pixelated_image)\n",
    "\n",
    "if __name__ == \"__main__\":\n",
    "    input_image_path = \"input_image.jpg\"\n",
    "    output_image_path = \"pixelated_image.jpg\"\n",
    "    pixel_size = 10  # Adjust this value to control the level of pixelation\n",
    "\n",
    "    pixelate_image(input_image_path, output_image_path, pixel_size)"
   ]
  },
  {
   "cell_type": "code",
   "execution_count": 54,
   "id": "79b46511-d2cb-4718-a789-cb35a2b769fc",
   "metadata": {
    "tags": []
   },
   "outputs": [],
   "source": [
    "pixelate_image('epic_1b_nobackground.png','outputtest_nb.png',2048)"
   ]
  },
  {
   "cell_type": "markdown",
   "id": "d6266f7a-ef1b-400b-839e-e76e43d14cc4",
   "metadata": {},
   "source": [
    "# Use image shape as a reference"
   ]
  },
  {
   "cell_type": "code",
   "execution_count": 22,
   "id": "30743425-e32e-4258-a4f8-4efe42d3edee",
   "metadata": {
    "tags": []
   },
   "outputs": [
    {
     "data": {
      "text/plain": [
       "(2048, 2048)"
      ]
     },
     "execution_count": 22,
     "metadata": {},
     "output_type": "execute_result"
    }
   ],
   "source": [
    "image = cv2.imread('epic_1b_nobackground.png')\n",
    "image.shape[:2]"
   ]
  },
  {
   "cell_type": "markdown",
   "id": "8422bef1-c347-448d-bf71-6f850a99965c",
   "metadata": {},
   "source": [
    "# Create pixelated images increasing the pixel size by 40 each time for the gif"
   ]
  },
  {
   "cell_type": "code",
   "execution_count": 46,
   "id": "b24abdb1-8ee2-4332-a2ea-572671eff5d2",
   "metadata": {
    "tags": []
   },
   "outputs": [],
   "source": [
    "for value in np.arange(40,640,40):\n",
    "    #nb stands for no background (to ensure that the pixelation doesnt get confused by black background color)\n",
    "    pixelate_image('epic_1b_nobackground.png','./pixel_movie/output_images/output_'+str(value)+'_nb.png',value)"
   ]
  },
  {
   "cell_type": "markdown",
   "id": "659b45c8-9c53-4655-876b-31767a51ff9d",
   "metadata": {},
   "source": [
    "# 2: Create and download the movie"
   ]
  },
  {
   "cell_type": "code",
   "execution_count": null,
   "id": "c121d69f-5560-48f7-86dd-624b8e2ab1a9",
   "metadata": {},
   "outputs": [],
   "source": [
    "from PIL import Image\n",
    "import os"
   ]
  },
  {
   "cell_type": "code",
   "execution_count": null,
   "id": "d2eaec66-be1f-421d-b849-d1faf58b29cd",
   "metadata": {},
   "outputs": [],
   "source": [
    "# List of input PNG files\n",
    "image_files=[]\n",
    "\n",
    "# All pixelated images created above were saved to \"output_images\" folder\n",
    "# sort them by increasing pixel size\n",
    "for file in sorted(os.listdir('./output_images')):\n",
    "    # only want the image files. exclude the python notebook in the directory.\n",
    "    if 'ipynb' in file: continue\n",
    "    image_files.append(file)\n",
    "print(image_files[0:10])"
   ]
  },
  {
   "cell_type": "code",
   "execution_count": null,
   "id": "cc86a449-d3c0-4f25-8a81-e9efedb435da",
   "metadata": {},
   "outputs": [],
   "source": [
    "# Create a list to store the Image objects\n",
    "images = []\n",
    "\n",
    "# Load each PNG file and append it to the list of images\n",
    "for filename in image_files[0:10]:\n",
    "    img = Image.open('./output_images/'+filename)\n",
    "    images.append(img)\n",
    "\n",
    "# Save the list of images as a GIF file\n",
    "# duration set in ms\n",
    "images[0].save(\"earth_pixel_movie.gif\", save_all=True, append_images=images[1:], duration=1100, loop=0)"
   ]
  }
 ],
 "metadata": {
  "kernelspec": {
   "display_name": "Python 3 (ipykernel)",
   "language": "python",
   "name": "python3"
  },
  "language_info": {
   "codemirror_mode": {
    "name": "ipython",
    "version": 3
   },
   "file_extension": ".py",
   "mimetype": "text/x-python",
   "name": "python",
   "nbconvert_exporter": "python",
   "pygments_lexer": "ipython3",
   "version": "3.11.4"
  }
 },
 "nbformat": 4,
 "nbformat_minor": 5
}
